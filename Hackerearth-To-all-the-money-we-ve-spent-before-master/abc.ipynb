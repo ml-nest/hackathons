{
  "nbformat": 4,
  "nbformat_minor": 0,
  "metadata": {
    "language_info": {
      "codemirror_mode": {
        "name": "ipython",
        "version": 3
      },
      "file_extension": ".py",
      "mimetype": "text/x-python",
      "name": "python",
      "nbconvert_exporter": "python",
      "pygments_lexer": "ipython3",
      "version": "3.8.5"
    },
    "orig_nbformat": 2,
    "kernelspec": {
      "name": "python3",
      "display_name": "Python 3.8.5 64-bit ('.env': venv)",
      "metadata": {
        "interpreter": {
          "hash": "70bc42be82acdfb4a5fef3866152fb063894c14efc48ce1365f9b4bfcb8a6c61"
        }
      }
    },
    "colab": {
      "name": "abc.ipynb",
      "provenance": []
    }
  },
  "cells": [
    {
      "cell_type": "code",
      "metadata": {
        "id": "kKMMkhfdb5WS",
        "outputId": "cbbc5e60-bd8e-4613-aef6-c7ceb53ce642",
        "colab": {
          "base_uri": "https://localhost:8080/"
        }
      },
      "source": [
        "import pandas as pd \n",
        "import numpy as np \n",
        "\n",
        "df = pd.read_csv(\"https://raw.githubusercontent.com/ml-nest/Hackerearth-To-all-the-money-we-ve-spent-before/master/train.csv\")\n",
        "print(df.columns)\n",
        "print(df.info())"
      ],
      "execution_count": 25,
      "outputs": [
        {
          "output_type": "stream",
          "text": [
            "Index(['Deal_title', 'Lead_name', 'Industry', 'Deal_value', 'Weighted_amount',\n",
            "       'Date_of_creation', 'Pitch', 'Contact_no', 'Lead_revenue',\n",
            "       'Fund_category', 'Geography', 'Location', 'POC_name', 'Designation',\n",
            "       'Lead_POC_email', 'Hiring_candidate_role', 'Lead_source',\n",
            "       'Level_of_meeting', 'Last_lead_update', 'Internal_POC', 'Resource',\n",
            "       'Internal_rating', 'Success_probability'],\n",
            "      dtype='object')\n",
            "<class 'pandas.core.frame.DataFrame'>\n",
            "RangeIndex: 7007 entries, 0 to 7006\n",
            "Data columns (total 23 columns):\n",
            " #   Column                 Non-Null Count  Dtype  \n",
            "---  ------                 --------------  -----  \n",
            " 0   Deal_title             7007 non-null   object \n",
            " 1   Lead_name              7007 non-null   object \n",
            " 2   Industry               7006 non-null   object \n",
            " 3   Deal_value             6956 non-null   object \n",
            " 4   Weighted_amount        6482 non-null   object \n",
            " 5   Date_of_creation       7007 non-null   object \n",
            " 6   Pitch                  7007 non-null   object \n",
            " 7   Contact_no             7007 non-null   object \n",
            " 8   Lead_revenue           7007 non-null   object \n",
            " 9   Fund_category          7007 non-null   object \n",
            " 10  Geography              6035 non-null   object \n",
            " 11  Location               6996 non-null   object \n",
            " 12  POC_name               6999 non-null   object \n",
            " 13  Designation            7007 non-null   object \n",
            " 14  Lead_POC_email         7007 non-null   object \n",
            " 15  Hiring_candidate_role  7007 non-null   object \n",
            " 16  Lead_source            7007 non-null   object \n",
            " 17  Level_of_meeting       7007 non-null   object \n",
            " 18  Last_lead_update       6374 non-null   object \n",
            " 19  Internal_POC           7007 non-null   object \n",
            " 20  Resource               6858 non-null   object \n",
            " 21  Internal_rating        7007 non-null   int64  \n",
            " 22  Success_probability    7007 non-null   float64\n",
            "dtypes: float64(1), int64(1), object(21)\n",
            "memory usage: 1.2+ MB\n",
            "None\n"
          ],
          "name": "stdout"
        }
      ]
    },
    {
      "cell_type": "code",
      "metadata": {
        "id": "aYCDuVXFb5WZ",
        "outputId": "5c15cd38-1f36-4f63-f421-e30d2de65dae",
        "colab": {
          "base_uri": "https://localhost:8080/",
          "height": 284
        }
      },
      "source": [
        "df.describe() # only 2 numeric column"
      ],
      "execution_count": 26,
      "outputs": [
        {
          "output_type": "execute_result",
          "data": {
            "text/html": [
              "<div>\n",
              "<style scoped>\n",
              "    .dataframe tbody tr th:only-of-type {\n",
              "        vertical-align: middle;\n",
              "    }\n",
              "\n",
              "    .dataframe tbody tr th {\n",
              "        vertical-align: top;\n",
              "    }\n",
              "\n",
              "    .dataframe thead th {\n",
              "        text-align: right;\n",
              "    }\n",
              "</style>\n",
              "<table border=\"1\" class=\"dataframe\">\n",
              "  <thead>\n",
              "    <tr style=\"text-align: right;\">\n",
              "      <th></th>\n",
              "      <th>Internal_rating</th>\n",
              "      <th>Success_probability</th>\n",
              "    </tr>\n",
              "  </thead>\n",
              "  <tbody>\n",
              "    <tr>\n",
              "      <th>count</th>\n",
              "      <td>7007.000000</td>\n",
              "      <td>7007.000000</td>\n",
              "    </tr>\n",
              "    <tr>\n",
              "      <th>mean</th>\n",
              "      <td>3.009562</td>\n",
              "      <td>64.745133</td>\n",
              "    </tr>\n",
              "    <tr>\n",
              "      <th>std</th>\n",
              "      <td>1.418666</td>\n",
              "      <td>17.931635</td>\n",
              "    </tr>\n",
              "    <tr>\n",
              "      <th>min</th>\n",
              "      <td>1.000000</td>\n",
              "      <td>-5.000000</td>\n",
              "    </tr>\n",
              "    <tr>\n",
              "      <th>25%</th>\n",
              "      <td>2.000000</td>\n",
              "      <td>60.600000</td>\n",
              "    </tr>\n",
              "    <tr>\n",
              "      <th>50%</th>\n",
              "      <td>3.000000</td>\n",
              "      <td>65.300000</td>\n",
              "    </tr>\n",
              "    <tr>\n",
              "      <th>75%</th>\n",
              "      <td>4.000000</td>\n",
              "      <td>69.600000</td>\n",
              "    </tr>\n",
              "    <tr>\n",
              "      <th>max</th>\n",
              "      <td>5.000000</td>\n",
              "      <td>107.340000</td>\n",
              "    </tr>\n",
              "  </tbody>\n",
              "</table>\n",
              "</div>"
            ],
            "text/plain": [
              "       Internal_rating  Success_probability\n",
              "count      7007.000000          7007.000000\n",
              "mean          3.009562            64.745133\n",
              "std           1.418666            17.931635\n",
              "min           1.000000            -5.000000\n",
              "25%           2.000000            60.600000\n",
              "50%           3.000000            65.300000\n",
              "75%           4.000000            69.600000\n",
              "max           5.000000           107.340000"
            ]
          },
          "metadata": {
            "tags": []
          },
          "execution_count": 26
        }
      ]
    },
    {
      "cell_type": "code",
      "metadata": {
        "id": "DvP6E-2Db5WZ"
      },
      "source": [
        "# key column\n",
        "df['Deal_title'].nunique()\n",
        "id = 'Deal_title'"
      ],
      "execution_count": 27,
      "outputs": []
    },
    {
      "cell_type": "code",
      "metadata": {
        "id": "HkJG0aucb5Wa"
      },
      "source": [
        "# Target Column\n",
        "target = \"Success_probability\""
      ],
      "execution_count": 28,
      "outputs": []
    },
    {
      "cell_type": "code",
      "metadata": {
        "id": "SNbG_xdhhvY9"
      },
      "source": [
        "col_drop = ['Lead_name', 'Contact_no', 'Geography', 'Lead_POC_email', 'POC_name']\n",
        "df = df.drop(col_drop, axis = 1)"
      ],
      "execution_count": 29,
      "outputs": []
    },
    {
      "cell_type": "code",
      "metadata": {
        "id": "Pln7WMtuiAJF",
        "outputId": "ce28e156-a6a4-4fa0-b674-6a5192dafacf",
        "colab": {
          "base_uri": "https://localhost:8080/"
        }
      },
      "source": [
        "df.columns"
      ],
      "execution_count": 30,
      "outputs": [
        {
          "output_type": "execute_result",
          "data": {
            "text/plain": [
              "Index(['Deal_title', 'Industry', 'Deal_value', 'Weighted_amount',\n",
              "       'Date_of_creation', 'Pitch', 'Lead_revenue', 'Fund_category',\n",
              "       'Location', 'Designation', 'Hiring_candidate_role', 'Lead_source',\n",
              "       'Level_of_meeting', 'Last_lead_update', 'Internal_POC', 'Resource',\n",
              "       'Internal_rating', 'Success_probability'],\n",
              "      dtype='object')"
            ]
          },
          "metadata": {
            "tags": []
          },
          "execution_count": 30
        }
      ]
    },
    {
      "cell_type": "code",
      "metadata": {
        "id": "tSJER5AUb5Wa",
        "outputId": "b58856d6-28b1-401d-d74f-0bb2a88bdf58",
        "colab": {
          "base_uri": "https://localhost:8080/"
        }
      },
      "source": [
        "df['Industry'].nunique()"
      ],
      "execution_count": 31,
      "outputs": [
        {
          "output_type": "execute_result",
          "data": {
            "text/plain": [
              "171"
            ]
          },
          "metadata": {
            "tags": []
          },
          "execution_count": 31
        }
      ]
    },
    {
      "cell_type": "code",
      "metadata": {
        "id": "REMEqxa6b5Wa"
      },
      "source": [
        "# as there is a null value in Industry column we can drop it\n",
        "df = df[df['Industry'].notna()]\n",
        "# Also this column will be sent to OHE if important"
      ],
      "execution_count": 32,
      "outputs": []
    },
    {
      "cell_type": "code",
      "metadata": {
        "id": "XWvRg6Csb5Wb"
      },
      "source": [
        "df['Deal_value'] = df['Deal_value'].str[:-1]\n",
        "df['Deal_value'] = df['Deal_value'].astype('float64')"
      ],
      "execution_count": 34,
      "outputs": []
    },
    {
      "cell_type": "code",
      "metadata": {
        "id": "a_xzyDl3jnnD"
      },
      "source": [
        "df['Weighted_amount'] = df['Weighted_amount'].str[:-1]\n",
        "df['Weighted_amount'] = df['Weighted_amount'].astype('float64')"
      ],
      "execution_count": 35,
      "outputs": []
    },
    {
      "cell_type": "code",
      "metadata": {
        "id": "iBPb6Y1_jpHT"
      },
      "source": [
        ""
      ],
      "execution_count": null,
      "outputs": []
    },
    {
      "cell_type": "code",
      "metadata": {
        "id": "u5RdK0RGb5Wc",
        "outputId": "e014c122-ba04-4682-de49-0ca83ed6d6ef"
      },
      "source": [
        "df.Date_of_creation # use this column as numric integer"
      ],
      "execution_count": null,
      "outputs": [
        {
          "output_type": "execute_result",
          "data": {
            "text/plain": [
              "0       2020-03-29\n",
              "1       2019-07-10\n",
              "2       2019-07-27\n",
              "3       2021-01-30\n",
              "4       2019-05-22\n",
              "           ...    \n",
              "7002    2020-12-07\n",
              "7003    2020-03-13\n",
              "7004    2020-03-10\n",
              "7005    2019-12-26\n",
              "7006    2020-04-27\n",
              "Name: Date_of_creation, Length: 7006, dtype: object"
            ]
          },
          "metadata": {
            "tags": []
          },
          "execution_count": 40
        }
      ]
    },
    {
      "cell_type": "code",
      "metadata": {
        "id": "8LMcyQmVb5Wc",
        "outputId": "71f83766-ca09-41c5-d629-3f5dbe4d0c86"
      },
      "source": [
        "df.Pitch"
      ],
      "execution_count": null,
      "outputs": [
        {
          "output_type": "execute_result",
          "data": {
            "text/plain": [
              "0       Product_2\n",
              "1       Product_2\n",
              "2       Product_1\n",
              "3       Product_2\n",
              "4       Product_2\n",
              "          ...    \n",
              "7002    Product_1\n",
              "7003    Product_2\n",
              "7004    Product_1\n",
              "7005    Product_1\n",
              "7006    Product_2\n",
              "Name: Pitch, Length: 7006, dtype: object"
            ]
          },
          "metadata": {
            "tags": []
          },
          "execution_count": 42
        }
      ]
    },
    {
      "cell_type": "code",
      "metadata": {
        "tags": [],
        "id": "qsVdTvQ7b5Wd",
        "outputId": "a2e0d526-fca5-4d20-ab2f-c08402989d0f",
        "colab": {
          "base_uri": "https://localhost:8080/"
        }
      },
      "source": [
        "for col in df:\n",
        "    print(col,df[col].nunique())"
      ],
      "execution_count": 38,
      "outputs": [
        {
          "output_type": "stream",
          "text": [
            "Deal_title 7006\n",
            "Industry 171\n",
            "Deal_value 6906\n",
            "Weighted_amount 6479\n",
            "Date_of_creation 777\n",
            "Pitch 2\n",
            "Lead_revenue 3\n",
            "Fund_category 4\n",
            "Location 597\n",
            "Designation 10\n",
            "Hiring_candidate_role 639\n",
            "Lead_source 4\n",
            "Level_of_meeting 3\n",
            "Last_lead_update 11\n",
            "Internal_POC 60\n",
            "Resource 6\n",
            "Internal_rating 5\n",
            "Success_probability 248\n"
          ],
          "name": "stdout"
        }
      ]
    }
  ]
}